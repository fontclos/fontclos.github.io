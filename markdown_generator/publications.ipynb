{
 "cells": [
  {
   "cell_type": "markdown",
   "metadata": {},
   "source": [
    "# Convert TSV of publication data into markdown for Github Pages"
   ]
  },
  {
   "cell_type": "code",
   "execution_count": 1,
   "metadata": {
    "collapsed": true
   },
   "outputs": [],
   "source": [
    "import pandas as pd"
   ]
  },
  {
   "cell_type": "code",
   "execution_count": 5,
   "metadata": {
    "collapsed": false
   },
   "outputs": [
    {
     "data": {
      "text/html": [
       "<div>\n",
       "<table border=\"1\" class=\"dataframe\">\n",
       "  <thead>\n",
       "    <tr style=\"text-align: right;\">\n",
       "      <th></th>\n",
       "      <th>pub_date</th>\n",
       "      <th>venue</th>\n",
       "      <th>pub_details</th>\n",
       "      <th>authors</th>\n",
       "      <th>title</th>\n",
       "      <th>citation</th>\n",
       "      <th>url</th>\n",
       "      <th>slug</th>\n",
       "      <th>summary</th>\n",
       "      <th>description</th>\n",
       "    </tr>\n",
       "  </thead>\n",
       "  <tbody>\n",
       "    <tr>\n",
       "      <th>0</th>\n",
       "      <td>2013-09-23</td>\n",
       "      <td>New Journal of Physics</td>\n",
       "      <td>15 093033</td>\n",
       "      <td>F. Font-Clos, G. Boleda, A. Corral</td>\n",
       "      <td>A scaling law beyond Zipf's law and its relati...</td>\n",
       "      <td>Font-Clos F, Boleda G and Corral A 2013 New J....</td>\n",
       "      <td>http://iopscience.iop.org/1367-2630/15/9/093033</td>\n",
       "      <td>scaling-zipf</td>\n",
       "      <td>The dependence on text length of the statistic...</td>\n",
       "      <td>The dependence on text length of the statistic...</td>\n",
       "    </tr>\n",
       "    <tr>\n",
       "      <th>1</th>\n",
       "      <td>2012-11-02</td>\n",
       "      <td>Journal of Statistical Mechanics: Theory and E...</td>\n",
       "      <td>11 P11003</td>\n",
       "      <td>F. Font-Clos, F. Alessandro Massucci, I. Pérez...</td>\n",
       "      <td>A weighted message-passing algorithm to estima...</td>\n",
       "      <td>NaN</td>\n",
       "      <td>http://iopscience.iop.org/1742-5468/2012/11/P1...</td>\n",
       "      <td>weighted-mpassing</td>\n",
       "      <td>In this work we introduce a novel weighted mes...</td>\n",
       "      <td>In this work we introduce a novel weighted mes...</td>\n",
       "    </tr>\n",
       "  </tbody>\n",
       "</table>\n",
       "</div>"
      ],
      "text/plain": [
       "     pub_date                                              venue pub_details  \\\n",
       "0  2013-09-23                             New Journal of Physics   15 093033   \n",
       "1  2012-11-02  Journal of Statistical Mechanics: Theory and E...   11 P11003   \n",
       "\n",
       "                                             authors  \\\n",
       "0                 F. Font-Clos, G. Boleda, A. Corral   \n",
       "1  F. Font-Clos, F. Alessandro Massucci, I. Pérez...   \n",
       "\n",
       "                                               title  \\\n",
       "0  A scaling law beyond Zipf's law and its relati...   \n",
       "1  A weighted message-passing algorithm to estima...   \n",
       "\n",
       "                                            citation  \\\n",
       "0  Font-Clos F, Boleda G and Corral A 2013 New J....   \n",
       "1                                                NaN   \n",
       "\n",
       "                                                 url               slug  \\\n",
       "0    http://iopscience.iop.org/1367-2630/15/9/093033       scaling-zipf   \n",
       "1  http://iopscience.iop.org/1742-5468/2012/11/P1...  weighted-mpassing   \n",
       "\n",
       "                                             summary  \\\n",
       "0  The dependence on text length of the statistic...   \n",
       "1  In this work we introduce a novel weighted mes...   \n",
       "\n",
       "                                         description  \n",
       "0  The dependence on text length of the statistic...  \n",
       "1  In this work we introduce a novel weighted mes...  "
      ]
     },
     "execution_count": 5,
     "metadata": {},
     "output_type": "execute_result"
    }
   ],
   "source": [
    "articles = pd.read_csv(\"publications.tsv\", sep=\"\\t\", header=0)\n",
    "articles"
   ]
  },
  {
   "cell_type": "code",
   "execution_count": 3,
   "metadata": {
    "collapsed": true
   },
   "outputs": [],
   "source": [
    "html_escape_table = {\n",
    "    \"&\": \"&amp;\",\n",
    "    '\"': \"&quot;\",\n",
    "    \"'\": \"&apos;\",\n",
    "    \">\": \"&gt;\",\n",
    "    \"<\": \"&lt;\",\n",
    "    }\n",
    "\n",
    "def html_escape(text):\n",
    "    \"\"\"Produce entities within text.\"\"\"\n",
    "    return \"\".join(html_escape_table.get(c,c) for c in text)"
   ]
  },
  {
   "cell_type": "code",
   "execution_count": 4,
   "metadata": {
    "collapsed": false
   },
   "outputs": [
    {
     "ename": "TypeError",
     "evalue": "'float' object is not iterable",
     "output_type": "error",
     "traceback": [
      "\u001b[0;31m---------------------------------------------------------------------------\u001b[0m",
      "\u001b[0;31mTypeError\u001b[0m                                 Traceback (most recent call last)",
      "\u001b[0;32m<ipython-input-4-88129b631709>\u001b[0m in \u001b[0;36m<module>\u001b[0;34m()\u001b[0m\n\u001b[1;32m     11\u001b[0m     \u001b[0mmd\u001b[0m \u001b[0;34m+=\u001b[0m \u001b[0;34m\"\\nvenue: '\"\u001b[0m \u001b[0;34m+\u001b[0m \u001b[0mhtml_escape\u001b[0m\u001b[0;34m(\u001b[0m\u001b[0mitem\u001b[0m\u001b[0;34m.\u001b[0m\u001b[0mvenue\u001b[0m\u001b[0;34m)\u001b[0m \u001b[0;34m+\u001b[0m \u001b[0;34m\"'\"\u001b[0m\u001b[0;34m\u001b[0m\u001b[0m\n\u001b[1;32m     12\u001b[0m     \u001b[0mmd\u001b[0m \u001b[0;34m+=\u001b[0m \u001b[0;34m\"\\npaperurl: '\"\u001b[0m \u001b[0;34m+\u001b[0m \u001b[0mitem\u001b[0m\u001b[0;34m.\u001b[0m\u001b[0murl\u001b[0m \u001b[0;34m+\u001b[0m \u001b[0;34m\"'\"\u001b[0m\u001b[0;34m\u001b[0m\u001b[0m\n\u001b[0;32m---> 13\u001b[0;31m     \u001b[0mmd\u001b[0m \u001b[0;34m+=\u001b[0m \u001b[0;34m\"\\ncitation: '\"\u001b[0m \u001b[0;34m+\u001b[0m \u001b[0mhtml_escape\u001b[0m\u001b[0;34m(\u001b[0m\u001b[0mitem\u001b[0m\u001b[0;34m.\u001b[0m\u001b[0mcitation\u001b[0m\u001b[0;34m)\u001b[0m \u001b[0;34m+\u001b[0m \u001b[0;34m\"'\"\u001b[0m\u001b[0;34m\u001b[0m\u001b[0m\n\u001b[0m\u001b[1;32m     14\u001b[0m     \u001b[0mmd\u001b[0m \u001b[0;34m+=\u001b[0m \u001b[0;34m\"\\n---\"\u001b[0m\u001b[0;34m\u001b[0m\u001b[0m\n\u001b[1;32m     15\u001b[0m     \u001b[0mmd\u001b[0m \u001b[0;34m+=\u001b[0m \u001b[0;34m\"\\n\\n<a href='\"\u001b[0m \u001b[0;34m+\u001b[0m \u001b[0mitem\u001b[0m\u001b[0;34m.\u001b[0m\u001b[0murl\u001b[0m \u001b[0;34m+\u001b[0m \u001b[0;34m\"'>Download PDF here</a>\\n\"\u001b[0m\u001b[0;34m\u001b[0m\u001b[0m\n",
      "\u001b[0;32m<ipython-input-3-3c0059f29392>\u001b[0m in \u001b[0;36mhtml_escape\u001b[0;34m(text)\u001b[0m\n\u001b[1;32m      9\u001b[0m \u001b[0;32mdef\u001b[0m \u001b[0mhtml_escape\u001b[0m\u001b[0;34m(\u001b[0m\u001b[0mtext\u001b[0m\u001b[0;34m)\u001b[0m\u001b[0;34m:\u001b[0m\u001b[0;34m\u001b[0m\u001b[0m\n\u001b[1;32m     10\u001b[0m     \u001b[0;34m\"\"\"Produce entities within text.\"\"\"\u001b[0m\u001b[0;34m\u001b[0m\u001b[0m\n\u001b[0;32m---> 11\u001b[0;31m     \u001b[0;32mreturn\u001b[0m \u001b[0;34m\"\"\u001b[0m\u001b[0;34m.\u001b[0m\u001b[0mjoin\u001b[0m\u001b[0;34m(\u001b[0m\u001b[0mhtml_escape_table\u001b[0m\u001b[0;34m.\u001b[0m\u001b[0mget\u001b[0m\u001b[0;34m(\u001b[0m\u001b[0mc\u001b[0m\u001b[0;34m,\u001b[0m\u001b[0mc\u001b[0m\u001b[0;34m)\u001b[0m \u001b[0;32mfor\u001b[0m \u001b[0mc\u001b[0m \u001b[0;32min\u001b[0m \u001b[0mtext\u001b[0m\u001b[0;34m)\u001b[0m\u001b[0;34m\u001b[0m\u001b[0m\n\u001b[0m",
      "\u001b[0;31mTypeError\u001b[0m: 'float' object is not iterable"
     ]
    }
   ],
   "source": [
    "import os\n",
    "for row, item in articles.iterrows():\n",
    "    md_filename = str(item.pub_date) + \"-\" + item.slug + \".md\"\n",
    "    html_filename = str(item.pub_date) + \"-\" + item.slug \n",
    "    year = item.pub_date[:4]\n",
    "    md = \"---\\ntitle: \\\"\"   + item.title + '\"\\n'\n",
    "    \n",
    "    md += \"\"\"collection: publication\\npermalink: /publication/\"\"\" + html_filename\n",
    "    md += \"\\nexcerpt: '<i>Published in \" + item.venue + \", \" + str(year) + \"</i><br/>\" + html_escape(item.summary) + \"'\"\n",
    "    md += \"\\ndate: \" + str(item.pub_date) \n",
    "    md += \"\\nvenue: '\" + html_escape(item.venue) + \"'\"\n",
    "    md += \"\\npaperurl: '\" + item.url + \"'\"\n",
    "    md += \"\\ncitation: '\" + html_escape(item.citation) + \"'\"\n",
    "    md += \"\\n---\"\n",
    "    md += \"\\n\\n<a href='\" + item.url + \"'>Download PDF here</a>\\n\" \n",
    "    md += \"\\nAbstract: \" + html_escape(item.description) + \"\\n\"\n",
    "    md += \"\\n Recommended citation: \" + item.citation\n",
    "    md_filename = os.path.basename(md_filename)\n",
    "    with open(md_filename, 'w') as f:\n",
    "        f.write(md)"
   ]
  },
  {
   "cell_type": "code",
   "execution_count": 6,
   "metadata": {
    "collapsed": false
   },
   "outputs": [
    {
     "name": "stdout",
     "output_type": "stream",
     "text": [
      "-rw-r--r--  1 fran  staff   1.5K Mar 25 16:37 2009-10-01-gnovis-habermas-understand-internet.md\r\n",
      "-rw-r--r--  1 fran  staff   1.3K Mar 25 16:37 2009-10-27-wikisym-social-roles-bots.md\r\n",
      "-rw-r--r--  1 fran  staff   1.4K Mar 25 16:37 2010-02-25-cscw-banning-vandal.md\r\n",
      "-rw-r--r--  1 fran  staff   1.5K Mar 25 16:37 2011-01-03-hicss-trace-ethnography.md\r\n",
      "-rw-r--r--  1 fran  staff   1.5K Mar 25 16:37 2011-10-05-wikisym-article-deletion.md\r\n",
      "-rw-r--r--  1 fran  staff   1.4K Mar 25 16:37 2011-11-01-cpov-lives-of-bots.md\r\n",
      "-rw-r--r--  1 fran  staff   1.6K Mar 25 16:37 2012-05-02-altchi-ipoxp.md\r\n",
      "-rw-r--r--  1 fran  staff   1.9K Mar 25 16:37 2012-06-05-icwsm-socialization-wikipedia.md\r\n",
      "-rw-r--r--  1 fran  staff   1.8K Mar 25 16:37 2012-08-29-wikisym-wikipedia-literate.md\r\n",
      "-rw-r--r--  1 fran  staff   1.8K Mar 25 16:37 2012-11-05-infoorg-artifacts-that-organize.md\r\n",
      "-rw-r--r--  1 fran  staff   1.8K Mar 25 16:37 2013-02-23-cscw-edit-sessions.md\r\n",
      "-rw-r--r--  1 fran  staff   1.8K Mar 25 16:37 2013-05-01-abs-rise-and-decline-wikipedia.md\r\n",
      "-rw-r--r--  1 fran  staff   1.9K Mar 25 16:37 2013-08-03-wikisym-levee-breaks-bots.md\r\n",
      "-rw-r--r--  1 fran  staff   1.8K Mar 25 16:37 2013-09-01-ecosoc-lter-students.md\r\n",
      "-rw-r--r--  1 fran  staff   1.5K Mar 25 16:37 2014-01-03-ics-bots-bespoke-code.md\r\n",
      "-rw-r--r--  1 fran  staff   1.9K Mar 25 16:37 2014-05-01-chi-snuggle-wikipedia.md\r\n",
      "-rw-r--r--  1 fran  staff   1.7K Mar 25 16:37 2014-09-10-jobem-old-against-new.md\r\n",
      "-rw-r--r--  1 fran  staff   1.7K Mar 25 16:37 2014-11-02-hcomp-values-in-crowdsourcing.md\r\n",
      "-rw-r--r--  1 fran  staff   1.9K Mar 25 16:37 2016-03-21-blockbots-ics.md\r\n",
      "-rw-r--r--  1 fran  staff   493B Mar 25 15:48 readme.md\r\n"
     ]
    }
   ],
   "source": [
    "!ls -lah *.md"
   ]
  },
  {
   "cell_type": "code",
   "execution_count": 8,
   "metadata": {
    "collapsed": false
   },
   "outputs": [
    {
     "name": "stdout",
     "output_type": "stream",
     "text": [
      "---\r\n",
      "title: \"Does Habermas Understand the Internet? The Algorithmic Construction of the Blogo/Public Sphere\"\r\n",
      "collection: publication\r\n",
      "permalink: /publication/2009-10-01-gnovis-habermas-understand-internet\r\n",
      "excerpt: '<i>Published in Gnovis, 2009</i><br/>Habermasians have been debating about the role of the Internet in the public sphere, but they have all taken for granted the highly-automated software infrastructures that mediate our knowledge of the blogosphere.'\r\n",
      "date: 2009-10-01\r\n",
      "venue: 'Gnovis'\r\n",
      "paperurl: 'http://www.stuartgeiger.com/papers/gnovis-habermas-blogopublic-sphere.pdf'\r\n",
      "citation: 'Geiger, R. Stuart (2009). “Does Habermas Understand the Internet? The Algorithmic Construction of the Blogo/Public Sphere.” Gnovis: A Journal of Communication, Culture, and Technology. 10(1).  http://www.stuartgeiger.com/papers/gnovis-habermas-blogopublic-sphere.pdf'\r\n",
      "---\r\n"
     ]
    }
   ],
   "source": [
    "!head 2009-10-01-gnovis-habermas-understand-internet.md"
   ]
  },
  {
   "cell_type": "code",
   "execution_count": null,
   "metadata": {
    "collapsed": true
   },
   "outputs": [],
   "source": []
  }
 ],
 "metadata": {
  "kernelspec": {
   "display_name": "Python 2",
   "language": "python",
   "name": "python2"
  },
  "language_info": {
   "codemirror_mode": {
    "name": "ipython",
    "version": 2
   },
   "file_extension": ".py",
   "mimetype": "text/x-python",
   "name": "python",
   "nbconvert_exporter": "python",
   "pygments_lexer": "ipython2",
   "version": "2.7.13"
  }
 },
 "nbformat": 4,
 "nbformat_minor": 0
}
