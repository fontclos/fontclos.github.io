{
 "cells": [
  {
   "cell_type": "markdown",
   "metadata": {},
   "source": [
    "# Convert TSV of publication data into markdown for Github Pages"
   ]
  },
  {
   "cell_type": "code",
   "execution_count": 42,
   "metadata": {
    "collapsed": true
   },
   "outputs": [],
   "source": [
    "import pandas as pd"
   ]
  },
  {
   "cell_type": "code",
   "execution_count": 47,
   "metadata": {
    "collapsed": false
   },
   "outputs": [
    {
     "data": {
      "text/html": [
       "<div>\n",
       "<table border=\"1\" class=\"dataframe\">\n",
       "  <thead>\n",
       "    <tr style=\"text-align: right;\">\n",
       "      <th></th>\n",
       "      <th>pub_date</th>\n",
       "      <th>venue</th>\n",
       "      <th>pub_details</th>\n",
       "      <th>authors</th>\n",
       "      <th>title</th>\n",
       "      <th>citation</th>\n",
       "      <th>journalurl</th>\n",
       "      <th>arxivurl</th>\n",
       "      <th>pdfurl</th>\n",
       "      <th>slug</th>\n",
       "      <th>summary</th>\n",
       "      <th>description</th>\n",
       "    </tr>\n",
       "  </thead>\n",
       "  <tbody>\n",
       "    <tr>\n",
       "      <th>0</th>\n",
       "      <td>2015-04-20</td>\n",
       "      <td>Physical Review E</td>\n",
       "      <td>91, 042122</td>\n",
       "      <td>R. Garcia-Millan, F. Font-Clos, A. Corral</td>\n",
       "      <td>Finite-size scaling of survival probability in...</td>\n",
       "      <td>R. Garcia-Millan, F. Font-Clos, A. Corral, Phy...</td>\n",
       "      <td>https://doi.org/10.1103/PhysRevE.91.042122</td>\n",
       "      <td>https://arxiv.org/abs/1411.2817</td>\n",
       "      <td>https://fontclos.github.io/files/Garcia-Millan...</td>\n",
       "      <td>finite-scaling-branching</td>\n",
       "      <td>We investigate the survival probability of a G...</td>\n",
       "      <td>Branching processes pervade many models in sta...</td>\n",
       "    </tr>\n",
       "    <tr>\n",
       "      <th>1</th>\n",
       "      <td>2014-07-25</td>\n",
       "      <td>EPL (Europhysics Letters)</td>\n",
       "      <td>107(3)</td>\n",
       "      <td>O. Sagarra, F. Font-Clos, C. J. Pérez-Vicente,...</td>\n",
       "      <td>The configuration multi-edge model: Assessing ...</td>\n",
       "      <td>O. Sagarra, F. Font-Clos, C. J. Pérez-Vicente,...</td>\n",
       "      <td>https://doi.org/10.1209/0295-5075/107/38002</td>\n",
       "      <td></td>\n",
       "      <td></td>\n",
       "      <td>multi-edge-cmodel</td>\n",
       "      <td>We examine the effect of fixing the strength s...</td>\n",
       "      <td>Complex networks grow subject to structural co...</td>\n",
       "    </tr>\n",
       "    <tr>\n",
       "      <th>2</th>\n",
       "      <td>2013-09-23</td>\n",
       "      <td>New Journal of Physics</td>\n",
       "      <td>15 093033</td>\n",
       "      <td>F. Font-Clos, G. Boleda, A. Corral</td>\n",
       "      <td>A scaling law beyond Zipf's law and its relati...</td>\n",
       "      <td>Font-Clos F, Boleda G and Corral A 2013 New J....</td>\n",
       "      <td>http://iopscience.iop.org/1367-2630/15/9/093033</td>\n",
       "      <td></td>\n",
       "      <td></td>\n",
       "      <td>scaling-zipf</td>\n",
       "      <td>The dependence on text length of the statistic...</td>\n",
       "      <td>The dependence on text length of the statistic...</td>\n",
       "    </tr>\n",
       "    <tr>\n",
       "      <th>3</th>\n",
       "      <td>2013-09-20</td>\n",
       "      <td>Metabolites</td>\n",
       "      <td>3(3)</td>\n",
       "      <td>F. Alessandro Massucci, F. Font-Clos, I. Pérez...</td>\n",
       "      <td>A Novel Methodology to Estimate Metabolic Flux...</td>\n",
       "      <td>Massucci, F.A.; Font-Clos, F.; De Martino, A.;...</td>\n",
       "      <td>http://www.mdpi.com/2218-1989/3/3/838</td>\n",
       "      <td></td>\n",
       "      <td></td>\n",
       "      <td>metabolites-invited</td>\n",
       "      <td>Constraint-based metabolic flux analysis descr...</td>\n",
       "      <td>Constraint-based metabolic flux analysis descr...</td>\n",
       "    </tr>\n",
       "    <tr>\n",
       "      <th>4</th>\n",
       "      <td>2012-11-02</td>\n",
       "      <td>Journal of Statistical Mechanics: Theory and E...</td>\n",
       "      <td>11 P11003</td>\n",
       "      <td>F. Font-Clos, F. Alessandro Massucci, I. Pérez...</td>\n",
       "      <td>A weighted message-passing algorithm to estima...</td>\n",
       "      <td>Font-Clos F,</td>\n",
       "      <td>http://iopscience.iop.org/1742-5468/2012/11/P1...</td>\n",
       "      <td></td>\n",
       "      <td></td>\n",
       "      <td>weighted-mpassing</td>\n",
       "      <td>In this work we introduce a novel weighted mes...</td>\n",
       "      <td>In this work we introduce a novel weighted mes...</td>\n",
       "    </tr>\n",
       "  </tbody>\n",
       "</table>\n",
       "</div>"
      ],
      "text/plain": [
       "     pub_date                                              venue pub_details  \\\n",
       "0  2015-04-20                                  Physical Review E  91, 042122   \n",
       "1  2014-07-25                          EPL (Europhysics Letters)      107(3)   \n",
       "2  2013-09-23                             New Journal of Physics   15 093033   \n",
       "3  2013-09-20                                        Metabolites        3(3)   \n",
       "4  2012-11-02  Journal of Statistical Mechanics: Theory and E...   11 P11003   \n",
       "\n",
       "                                             authors  \\\n",
       "0          R. Garcia-Millan, F. Font-Clos, A. Corral   \n",
       "1  O. Sagarra, F. Font-Clos, C. J. Pérez-Vicente,...   \n",
       "2                 F. Font-Clos, G. Boleda, A. Corral   \n",
       "3  F. Alessandro Massucci, F. Font-Clos, I. Pérez...   \n",
       "4  F. Font-Clos, F. Alessandro Massucci, I. Pérez...   \n",
       "\n",
       "                                               title  \\\n",
       "0  Finite-size scaling of survival probability in...   \n",
       "1  The configuration multi-edge model: Assessing ...   \n",
       "2  A scaling law beyond Zipf's law and its relati...   \n",
       "3  A Novel Methodology to Estimate Metabolic Flux...   \n",
       "4  A weighted message-passing algorithm to estima...   \n",
       "\n",
       "                                            citation  \\\n",
       "0  R. Garcia-Millan, F. Font-Clos, A. Corral, Phy...   \n",
       "1  O. Sagarra, F. Font-Clos, C. J. Pérez-Vicente,...   \n",
       "2  Font-Clos F, Boleda G and Corral A 2013 New J....   \n",
       "3  Massucci, F.A.; Font-Clos, F.; De Martino, A.;...   \n",
       "4                                       Font-Clos F,   \n",
       "\n",
       "                                          journalurl  \\\n",
       "0         https://doi.org/10.1103/PhysRevE.91.042122   \n",
       "1        https://doi.org/10.1209/0295-5075/107/38002   \n",
       "2    http://iopscience.iop.org/1367-2630/15/9/093033   \n",
       "3              http://www.mdpi.com/2218-1989/3/3/838   \n",
       "4  http://iopscience.iop.org/1742-5468/2012/11/P1...   \n",
       "\n",
       "                          arxivurl  \\\n",
       "0  https://arxiv.org/abs/1411.2817   \n",
       "1                                    \n",
       "2                                    \n",
       "3                                    \n",
       "4                                    \n",
       "\n",
       "                                              pdfurl  \\\n",
       "0  https://fontclos.github.io/files/Garcia-Millan...   \n",
       "1                                                      \n",
       "2                                                      \n",
       "3                                                      \n",
       "4                                                      \n",
       "\n",
       "                       slug  \\\n",
       "0  finite-scaling-branching   \n",
       "1         multi-edge-cmodel   \n",
       "2              scaling-zipf   \n",
       "3       metabolites-invited   \n",
       "4         weighted-mpassing   \n",
       "\n",
       "                                             summary  \\\n",
       "0  We investigate the survival probability of a G...   \n",
       "1  We examine the effect of fixing the strength s...   \n",
       "2  The dependence on text length of the statistic...   \n",
       "3  Constraint-based metabolic flux analysis descr...   \n",
       "4  In this work we introduce a novel weighted mes...   \n",
       "\n",
       "                                         description  \n",
       "0  Branching processes pervade many models in sta...  \n",
       "1  Complex networks grow subject to structural co...  \n",
       "2  The dependence on text length of the statistic...  \n",
       "3  Constraint-based metabolic flux analysis descr...  \n",
       "4  In this work we introduce a novel weighted mes...  "
      ]
     },
     "execution_count": 47,
     "metadata": {},
     "output_type": "execute_result"
    }
   ],
   "source": [
    "articles = pd.read_csv(\"publications.tsv\", sep=\"\\t\", header=0)\n",
    "articles"
   ]
  },
  {
   "cell_type": "code",
   "execution_count": 48,
   "metadata": {
    "collapsed": true
   },
   "outputs": [],
   "source": [
    "html_escape_table = {\n",
    "    \"&\": \"&amp;\",\n",
    "    '\"': \"&quot;\",\n",
    "    \"'\": \"&apos;\",\n",
    "    \">\": \"&gt;\",\n",
    "    \"<\": \"&lt;\",\n",
    "    }\n",
    "\n",
    "def html_escape(text):\n",
    "    \"\"\"Produce entities within text.\"\"\"\n",
    "    return \"\".join(html_escape_table.get(c,c) for c in text)"
   ]
  },
  {
   "cell_type": "code",
   "execution_count": 49,
   "metadata": {
    "collapsed": false
   },
   "outputs": [],
   "source": [
    "import os\n",
    "for row, item in articles.iterrows():\n",
    "    md_filename = str(item.pub_date) + \"-\" + item.slug + \".md\"\n",
    "    html_filename = str(item.pub_date) + \"-\" + item.slug \n",
    "    year = item.pub_date[:4]\n",
    "    md = \"---\\ntitle: \\\"\"   + item.title + '\"\\n'\n",
    "    \n",
    "    md += \"\"\"collection: publication\\npermalink: /publication/\"\"\" + html_filename\n",
    "    md += \"\\nexcerpt: '<i>Published in \" + item.venue + \", \" + str(year) + \"</i><br/>\" + html_escape(item.summary) + \"'\"\n",
    "    md += \"\\ndate: \" + str(item.pub_date) \n",
    "    md += \"\\nvenue: '\" + html_escape(item.venue) + \"'\"\n",
    "    md += \"\\njournalurl: '\" + item.journalurl + \"'\"\n",
    "    md += \"\\npdfurl: '\" + item.pdfurl + \"'\"\n",
    "    md += \"\\narxivurl: '\" + item.arxivurl + \"'\"\n",
    "    md += \"\\ncitation: '\" + html_escape(item.citation) + \"'\"\n",
    "    md += \"\\n---\"\n",
    "    #md += \"\\n\\n<a href='\" + item.url + \"'>Download PDF here</a>\\n\" \n",
    "    md += \"\\nAbstract: \" + html_escape(item.description) + \"\\n\"\n",
    "    md += \"\\n Recommended citation: \" + item.citation\n",
    "    md_filename = os.path.basename(md_filename)\n",
    "    with open(md_filename, 'w') as f:\n",
    "        f.write(md)"
   ]
  },
  {
   "cell_type": "code",
   "execution_count": 50,
   "metadata": {
    "collapsed": false
   },
   "outputs": [
    {
     "data": {
      "text/plain": [
       "pub_date                                              2012-11-02\n",
       "venue          Journal of Statistical Mechanics: Theory and E...\n",
       "pub_details                                            11 P11003\n",
       "authors        F. Font-Clos, F. Alessandro Massucci, I. Pérez...\n",
       "title          A weighted message-passing algorithm to estima...\n",
       "citation                                            Font-Clos F,\n",
       "journalurl     http://iopscience.iop.org/1742-5468/2012/11/P1...\n",
       "arxivurl                                                        \n",
       "pdfurl                                                          \n",
       "slug                                           weighted-mpassing\n",
       "summary        In this work we introduce a novel weighted mes...\n",
       "description    In this work we introduce a novel weighted mes...\n",
       "Name: 4, dtype: object"
      ]
     },
     "execution_count": 50,
     "metadata": {},
     "output_type": "execute_result"
    }
   ],
   "source": [
    "item"
   ]
  },
  {
   "cell_type": "code",
   "execution_count": 51,
   "metadata": {
    "collapsed": false
   },
   "outputs": [
    {
     "name": "stdout",
     "output_type": "stream",
     "text": [
      "-rw-r--r--  1 fran  staff   1.5K Mar 26 00:37 2012-11-02-weighted-mpassing.md\r\n",
      "-rw-r--r--  1 fran  staff   1.5K Mar 26 00:37 2013-09-20-metabolites-invited.md\r\n",
      "-rw-r--r--  1 fran  staff   1.9K Mar 26 00:37 2013-09-23-scaling-zipf.md\r\n",
      "-rw-r--r--  1 fran  staff   1.7K Mar 26 00:37 2014-07-25-multi-edge-cmodel.md\r\n",
      "-rw-r--r--  1 fran  staff   1.8K Mar 26 00:37 2015-04-20-finite-scaling-branching.md\r\n",
      "-rw-r--r--  1 fran  staff   493B Mar 25 15:48 readme.md\r\n"
     ]
    }
   ],
   "source": [
    "!ls -lah *.md"
   ]
  },
  {
   "cell_type": "code",
   "execution_count": null,
   "metadata": {
    "collapsed": false
   },
   "outputs": [],
   "source": []
  },
  {
   "cell_type": "code",
   "execution_count": null,
   "metadata": {
    "collapsed": true
   },
   "outputs": [],
   "source": []
  }
 ],
 "metadata": {
  "kernelspec": {
   "display_name": "Python 2",
   "language": "python",
   "name": "python2"
  },
  "language_info": {
   "codemirror_mode": {
    "name": "ipython",
    "version": 2
   },
   "file_extension": ".py",
   "mimetype": "text/x-python",
   "name": "python",
   "nbconvert_exporter": "python",
   "pygments_lexer": "ipython2",
   "version": "2.7.13"
  }
 },
 "nbformat": 4,
 "nbformat_minor": 0
}
